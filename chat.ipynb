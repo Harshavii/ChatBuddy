{
 "cells": [
  {
   "cell_type": "code",
   "execution_count": 1,
   "metadata": {},
   "outputs": [
    {
     "name": "stderr",
     "output_type": "stream",
     "text": [
      "Python 3.6.13 :: Anaconda, Inc.\n"
     ]
    }
   ],
   "source": [
    "!python --version"
   ]
  },
  {
   "cell_type": "code",
   "execution_count": null,
   "metadata": {},
   "outputs": [],
   "source": [
    "#installation\n",
    "# %pip install joblib\n",
    "# %pip install tqdm\n",
    "# %pip install scikit-learn\n",
    "# %pip install nltk"
   ]
  },
  {
   "cell_type": "code",
   "execution_count": 2,
   "metadata": {},
   "outputs": [],
   "source": [
    "# imports\n",
    "import joblib\n",
    "import sklearn\n",
    "import random\n",
    "import pandas as pd\n",
    "import numpy as np\n",
    "from tqdm import tqdm  \n",
    "from bert_embedding import BertEmbedding\n",
    "from sklearn.model_selection import train_test_split\n",
    "from sklearn import preprocessing\n",
    "from sklearn.metrics import confusion_matrix, classification_report\n",
    "from sklearn.metrics.pairwise import cosine_similarity\n",
    "# import matplotlib.pyplot as plt\n",
    "# import seaborn as sn"
   ]
  },
  {
   "cell_type": "code",
   "execution_count": 3,
   "metadata": {},
   "outputs": [
    {
     "name": "stderr",
     "output_type": "stream",
     "text": [
      "[nltk_data] Downloading package punkt to\n",
      "[nltk_data]     C:\\Users\\harsh\\AppData\\Roaming\\nltk_data...\n",
      "[nltk_data]   Package punkt is already up-to-date!\n",
      "[nltk_data] Downloading package stopwords to\n",
      "[nltk_data]     C:\\Users\\harsh\\AppData\\Roaming\\nltk_data...\n",
      "[nltk_data]   Package stopwords is already up-to-date!\n",
      "[nltk_data] Downloading package wordnet to\n",
      "[nltk_data]     C:\\Users\\harsh\\AppData\\Roaming\\nltk_data...\n",
      "[nltk_data]   Package wordnet is already up-to-date!\n"
     ]
    }
   ],
   "source": [
    "# NLTK\n",
    "import nltk \n",
    "import re\n",
    "import string \n",
    "nltk.download('punkt')\n",
    "nltk.download('stopwords')\n",
    "nltk.download('wordnet')\n",
    "from nltk.corpus import stopwords \n",
    "from nltk.tokenize import word_tokenize\n",
    "from nltk.stem import WordNetLemmatizer"
   ]
  },
  {
   "cell_type": "code",
   "execution_count": 5,
   "metadata": {},
   "outputs": [],
   "source": [
    "stop_w = stopwords.words('english')\n",
    "bert_embedding = BertEmbedding(max_seq_length=50)"
   ]
  },
  {
   "cell_type": "code",
   "execution_count": 6,
   "metadata": {},
   "outputs": [],
   "source": [
    "# loading dataset\n",
    "df = pd.read_csv(\"C:\\\\Users\\\\harsh\\\\OneDrive\\\\Desktop\\\\Mental Health Chatbot\\\\chatbot dataset.csv\",encoding=\"utf-8\")"
   ]
  },
  {
   "cell_type": "code",
   "execution_count": null,
   "metadata": {},
   "outputs": [],
   "source": [
    "df.head"
   ]
  },
  {
   "cell_type": "code",
   "execution_count": 7,
   "metadata": {},
   "outputs": [],
   "source": [
    "df2 = df #copy"
   ]
  },
  {
   "cell_type": "code",
   "execution_count": 8,
   "metadata": {},
   "outputs": [],
   "source": [
    "# pre-processing\n",
    "import string\n",
    "stop_w = stopwords.words('english')\n",
    "def clean(column,df,stopwords=False):\n",
    "  #remove stop words\n",
    "  df[column] = df[column].apply(str)\n",
    "  df[column] = df[column].str.lower().str.split()\n",
    "  if stopwords:\n",
    "        df[column]=df[column].apply(lambda x: [item for item in x if item not in stop_w])\n",
    "  #remove punctuation\n",
    "  df[column]=df[column].apply(lambda x: [item for item in x if item not in string.punctuation])\n",
    "  df[column]=df[column].apply(lambda x: \" \".join(x))\n",
    "  \n",
    "  #lowercase text - already done in models"
   ]
  },
  {
   "cell_type": "code",
   "execution_count": 9,
   "metadata": {},
   "outputs": [],
   "source": [
    "clean('questionText',df2) #kept stopwords"
   ]
  },
  {
   "cell_type": "code",
   "execution_count": 13,
   "metadata": {},
   "outputs": [],
   "source": [
    "# extracting questions_embeddings\n",
    "questions = df2[\"questionText\"].to_list()\n",
    "questions_embeddings = bert_embedding(questions)"
   ]
  },
  {
   "cell_type": "code",
   "execution_count": 14,
   "metadata": {},
   "outputs": [],
   "source": [
    "#storing the questions_embeddings in a list\n",
    "sent_bertphrase_embeddings = []\n",
    "for emb in questions_embeddings:\n",
    "  sent_bertphrase_embeddings.append(emb[1])"
   ]
  },
  {
   "cell_type": "code",
   "execution_count": 10,
   "metadata": {},
   "outputs": [],
   "source": [
    "clean('answerText',df2,stopwords=True)   #kept stopwords in ans column"
   ]
  },
  {
   "cell_type": "code",
   "execution_count": 16,
   "metadata": {},
   "outputs": [],
   "source": [
    "# extracting answers_embeddings\n",
    "answers = df2[\"answerText\"].to_list()\n",
    "answers_embeddings = bert_embedding(answers)"
   ]
  },
  {
   "cell_type": "code",
   "execution_count": 17,
   "metadata": {},
   "outputs": [
    {
     "data": {
      "text/plain": [
       "(2129, 2)"
      ]
     },
     "execution_count": 17,
     "metadata": {},
     "output_type": "execute_result"
    }
   ],
   "source": [
    "np.array(answers_embeddings).shape"
   ]
  },
  {
   "cell_type": "code",
   "execution_count": 18,
   "metadata": {},
   "outputs": [],
   "source": [
    "# storing the answers_embeddings in a list\n",
    "sent_bertphrase_ans_embeddings = []\n",
    "for emb in answers_embeddings:\n",
    "  sent_bertphrase_ans_embeddings.append(emb[1])"
   ]
  },
  {
   "cell_type": "code",
   "execution_count": 19,
   "metadata": {},
   "outputs": [
    {
     "data": {
      "text/plain": [
       "['questions.pkl']"
      ]
     },
     "execution_count": 19,
     "metadata": {},
     "output_type": "execute_result"
    }
   ],
   "source": [
    "# converting to pickle file (for questions_embeddings)\n",
    "joblib.dump(sent_bertphrase_embeddings,\"questions.pkl\")"
   ]
  },
  {
   "cell_type": "code",
   "execution_count": 20,
   "metadata": {},
   "outputs": [
    {
     "data": {
      "text/plain": [
       "['answers.pkl']"
      ]
     },
     "execution_count": 20,
     "metadata": {},
     "output_type": "execute_result"
    }
   ],
   "source": [
    "# converting to pickle file (for answers_embeddings)\n",
    "joblib.dump(sent_bertphrase_ans_embeddings,\"answers.pkl\")"
   ]
  },
  {
   "cell_type": "code",
   "execution_count": null,
   "metadata": {},
   "outputs": [],
   "source": [
    "# using bert word embeddings to encode the questions\n",
    "sent_bertphrase_embeddings=[]\n",
    "for index,row in tqdm(df2.iterrows()):\n",
    "  sent = row['questionText']\n",
    "  #sent_bertphrase_embeddings.append(bc.encode([sent]));\n",
    "  result = bert_embedding(sent)\n",
    "  sent_bertphrase_embeddings.append(result)\n",
    "#   aborted"
   ]
  },
  {
   "cell_type": "code",
   "execution_count": 23,
   "metadata": {},
   "outputs": [],
   "source": [
    "def get_cleaned_sentences(df):    \n",
    "    cleaned_sentences=[]\n",
    "    for index,row in df.iterrows():\n",
    "        cleaned = row['questionText']\n",
    "        cleaned_sentences.append(cleaned);\n",
    "    return cleaned_sentences"
   ]
  },
  {
   "cell_type": "code",
   "execution_count": 24,
   "metadata": {},
   "outputs": [],
   "source": [
    "cleaned_sentences = get_cleaned_sentences(df2)"
   ]
  },
  {
   "cell_type": "code",
   "execution_count": 23,
   "metadata": {},
   "outputs": [
    {
     "data": {
      "text/plain": [
       "'hello, thank question seeking advice this. feelings worthlessness unfortunately common. fact, people, all, felt degree point life. alone. changing feelings like changing thoughts hard do. minds amazing minute change thought another one right take place. without permission, another thought pop there. new thought may feel worse last one! guess tried several things improve even reaching here. people often try thinking positive thoughts, debating thoughts, simply telling need \"snap it\" also thought carries self-criticism. people try different approach, counselors help this. idea instead trying change thoughts, change respond them. learn skills allow manage difficult thoughts feelings differently impact right now. people, actually begin experience less hurtful thoughts learn manage ones differently. acceptance commitment therapy may good choice you. information online even self-help books use teach skills mentioned. skills, require practice, many people found great relief enriched life learning them. suicidal thoughts, glad read happened you. still, watch sign worsening depression. begin think this, important reach support system right away. national suicide prevention lifeline 1-800-273-8255. text line #741741. hope colleagues provide suggestions. well...robin landwehr, dbh, lpcc'"
      ]
     },
     "execution_count": 23,
     "metadata": {},
     "output_type": "execute_result"
    }
   ],
   "source": [
    "df2.iloc[1][8]"
   ]
  },
  {
   "cell_type": "code",
   "execution_count": 25,
   "metadata": {},
   "outputs": [],
   "source": [
    "# loading questions pickle file\n",
    "sent_bertphrase_embeddings = joblib.load(\"C:\\\\Users\\\\harsh\\\\OneDrive\\\\Desktop\\\\Mental Health Chatbot\\\\questions.pkl\")"
   ]
  },
  {
   "cell_type": "code",
   "execution_count": 26,
   "metadata": {},
   "outputs": [],
   "source": [
    "# loading answers pickle file\n",
    "sent_bertphrase_ans_embeddings = joblib.load(\"C:\\\\Users\\\\harsh\\\\OneDrive\\\\Desktop\\\\Mental Health Chatbot\\\\answers.pkl\")"
   ]
  },
  {
   "cell_type": "code",
   "execution_count": 26,
   "metadata": {},
   "outputs": [],
   "source": [
    "import json\n",
    "import requests"
   ]
  },
  {
   "cell_type": "code",
   "execution_count": 71,
   "metadata": {},
   "outputs": [],
   "source": [
    "# getting hold of embeddings value from user input text\n",
    "def get_embeddings(texts):\n",
    "    url = 'https://4900-203-194-107-244.ngrok.io'\n",
    "    headers = {\n",
    "        'content-type':'application/json'\n",
    "    }\n",
    "    data = {\n",
    "        \"id\":123,\n",
    "        \"texts\":texts,\n",
    "        \"is_tokenized\": False\n",
    "    }\n",
    "    data = json.dumps(data)\n",
    "    # print(data)\n",
    "    r = requests.post(url, data=data, headers=headers).json()\n",
    "    return (r['result'])"
   ]
  },
  {
   "cell_type": "code",
   "execution_count": 74,
   "metadata": {},
   "outputs": [
    {
     "ename": "JSONDecodeError",
     "evalue": "Expecting value: line 1 column 1 (char 0)",
     "output_type": "error",
     "traceback": [
      "\u001b[1;31m---------------------------------------------------------------------------\u001b[0m",
      "\u001b[1;31mJSONDecodeError\u001b[0m                           Traceback (most recent call last)",
      "\u001b[1;32m<ipython-input-74-b7dce6f04b5c>\u001b[0m in \u001b[0;36m<module>\u001b[1;34m\u001b[0m\n\u001b[1;32m----> 1\u001b[1;33m \u001b[0mget_embeddings\u001b[0m\u001b[1;33m(\u001b[0m\u001b[1;34m\"Hello there\"\u001b[0m\u001b[1;33m)\u001b[0m\u001b[1;33m\u001b[0m\u001b[1;33m\u001b[0m\u001b[0m\n\u001b[0m",
      "\u001b[1;32m<ipython-input-71-e77447528566>\u001b[0m in \u001b[0;36mget_embeddings\u001b[1;34m(texts)\u001b[0m\n\u001b[0;32m     12\u001b[0m     \u001b[0mdata\u001b[0m \u001b[1;33m=\u001b[0m \u001b[0mjson\u001b[0m\u001b[1;33m.\u001b[0m\u001b[0mdumps\u001b[0m\u001b[1;33m(\u001b[0m\u001b[0mdata\u001b[0m\u001b[1;33m)\u001b[0m\u001b[1;33m\u001b[0m\u001b[1;33m\u001b[0m\u001b[0m\n\u001b[0;32m     13\u001b[0m     \u001b[1;31m# print(data)\u001b[0m\u001b[1;33m\u001b[0m\u001b[1;33m\u001b[0m\u001b[1;33m\u001b[0m\u001b[0m\n\u001b[1;32m---> 14\u001b[1;33m     \u001b[0mr\u001b[0m \u001b[1;33m=\u001b[0m \u001b[0mrequests\u001b[0m\u001b[1;33m.\u001b[0m\u001b[0mpost\u001b[0m\u001b[1;33m(\u001b[0m\u001b[0murl\u001b[0m\u001b[1;33m,\u001b[0m \u001b[0mdata\u001b[0m\u001b[1;33m=\u001b[0m\u001b[0mdata\u001b[0m\u001b[1;33m,\u001b[0m \u001b[0mheaders\u001b[0m\u001b[1;33m=\u001b[0m\u001b[0mheaders\u001b[0m\u001b[1;33m)\u001b[0m\u001b[1;33m.\u001b[0m\u001b[0mjson\u001b[0m\u001b[1;33m(\u001b[0m\u001b[1;33m)\u001b[0m\u001b[1;33m\u001b[0m\u001b[1;33m\u001b[0m\u001b[0m\n\u001b[0m\u001b[0;32m     15\u001b[0m     \u001b[1;32mreturn\u001b[0m \u001b[0mr\u001b[0m\u001b[1;33m\u001b[0m\u001b[1;33m\u001b[0m\u001b[0m\n\u001b[0;32m     16\u001b[0m     \u001b[1;32mreturn\u001b[0m \u001b[1;33m(\u001b[0m\u001b[0mr\u001b[0m\u001b[1;33m[\u001b[0m\u001b[1;34m'result'\u001b[0m\u001b[1;33m]\u001b[0m\u001b[1;33m)\u001b[0m\u001b[1;33m\u001b[0m\u001b[1;33m\u001b[0m\u001b[0m\n",
      "\u001b[1;32mc:\\Users\\harsh\\anaconda3\\envs\\bertenv\\lib\\site-packages\\requests\\models.py\u001b[0m in \u001b[0;36mjson\u001b[1;34m(self, **kwargs)\u001b[0m\n\u001b[0;32m    890\u001b[0m                     \u001b[1;31m# used.\u001b[0m\u001b[1;33m\u001b[0m\u001b[1;33m\u001b[0m\u001b[1;33m\u001b[0m\u001b[0m\n\u001b[0;32m    891\u001b[0m                     \u001b[1;32mpass\u001b[0m\u001b[1;33m\u001b[0m\u001b[1;33m\u001b[0m\u001b[0m\n\u001b[1;32m--> 892\u001b[1;33m         \u001b[1;32mreturn\u001b[0m \u001b[0mcomplexjson\u001b[0m\u001b[1;33m.\u001b[0m\u001b[0mloads\u001b[0m\u001b[1;33m(\u001b[0m\u001b[0mself\u001b[0m\u001b[1;33m.\u001b[0m\u001b[0mtext\u001b[0m\u001b[1;33m,\u001b[0m \u001b[1;33m**\u001b[0m\u001b[0mkwargs\u001b[0m\u001b[1;33m)\u001b[0m\u001b[1;33m\u001b[0m\u001b[1;33m\u001b[0m\u001b[0m\n\u001b[0m\u001b[0;32m    893\u001b[0m \u001b[1;33m\u001b[0m\u001b[0m\n\u001b[0;32m    894\u001b[0m     \u001b[1;33m@\u001b[0m\u001b[0mproperty\u001b[0m\u001b[1;33m\u001b[0m\u001b[1;33m\u001b[0m\u001b[0m\n",
      "\u001b[1;32mc:\\Users\\harsh\\anaconda3\\envs\\bertenv\\lib\\json\\__init__.py\u001b[0m in \u001b[0;36mloads\u001b[1;34m(s, encoding, cls, object_hook, parse_float, parse_int, parse_constant, object_pairs_hook, **kw)\u001b[0m\n\u001b[0;32m    352\u001b[0m             \u001b[0mparse_int\u001b[0m \u001b[1;32mis\u001b[0m \u001b[1;32mNone\u001b[0m \u001b[1;32mand\u001b[0m \u001b[0mparse_float\u001b[0m \u001b[1;32mis\u001b[0m \u001b[1;32mNone\u001b[0m \u001b[1;32mand\u001b[0m\u001b[1;33m\u001b[0m\u001b[1;33m\u001b[0m\u001b[0m\n\u001b[0;32m    353\u001b[0m             parse_constant is None and object_pairs_hook is None and not kw):\n\u001b[1;32m--> 354\u001b[1;33m         \u001b[1;32mreturn\u001b[0m \u001b[0m_default_decoder\u001b[0m\u001b[1;33m.\u001b[0m\u001b[0mdecode\u001b[0m\u001b[1;33m(\u001b[0m\u001b[0ms\u001b[0m\u001b[1;33m)\u001b[0m\u001b[1;33m\u001b[0m\u001b[1;33m\u001b[0m\u001b[0m\n\u001b[0m\u001b[0;32m    355\u001b[0m     \u001b[1;32mif\u001b[0m \u001b[0mcls\u001b[0m \u001b[1;32mis\u001b[0m \u001b[1;32mNone\u001b[0m\u001b[1;33m:\u001b[0m\u001b[1;33m\u001b[0m\u001b[1;33m\u001b[0m\u001b[0m\n\u001b[0;32m    356\u001b[0m         \u001b[0mcls\u001b[0m \u001b[1;33m=\u001b[0m \u001b[0mJSONDecoder\u001b[0m\u001b[1;33m\u001b[0m\u001b[1;33m\u001b[0m\u001b[0m\n",
      "\u001b[1;32mc:\\Users\\harsh\\anaconda3\\envs\\bertenv\\lib\\json\\decoder.py\u001b[0m in \u001b[0;36mdecode\u001b[1;34m(self, s, _w)\u001b[0m\n\u001b[0;32m    337\u001b[0m \u001b[1;33m\u001b[0m\u001b[0m\n\u001b[0;32m    338\u001b[0m         \"\"\"\n\u001b[1;32m--> 339\u001b[1;33m         \u001b[0mobj\u001b[0m\u001b[1;33m,\u001b[0m \u001b[0mend\u001b[0m \u001b[1;33m=\u001b[0m \u001b[0mself\u001b[0m\u001b[1;33m.\u001b[0m\u001b[0mraw_decode\u001b[0m\u001b[1;33m(\u001b[0m\u001b[0ms\u001b[0m\u001b[1;33m,\u001b[0m \u001b[0midx\u001b[0m\u001b[1;33m=\u001b[0m\u001b[0m_w\u001b[0m\u001b[1;33m(\u001b[0m\u001b[0ms\u001b[0m\u001b[1;33m,\u001b[0m \u001b[1;36m0\u001b[0m\u001b[1;33m)\u001b[0m\u001b[1;33m.\u001b[0m\u001b[0mend\u001b[0m\u001b[1;33m(\u001b[0m\u001b[1;33m)\u001b[0m\u001b[1;33m)\u001b[0m\u001b[1;33m\u001b[0m\u001b[1;33m\u001b[0m\u001b[0m\n\u001b[0m\u001b[0;32m    340\u001b[0m         \u001b[0mend\u001b[0m \u001b[1;33m=\u001b[0m \u001b[0m_w\u001b[0m\u001b[1;33m(\u001b[0m\u001b[0ms\u001b[0m\u001b[1;33m,\u001b[0m \u001b[0mend\u001b[0m\u001b[1;33m)\u001b[0m\u001b[1;33m.\u001b[0m\u001b[0mend\u001b[0m\u001b[1;33m(\u001b[0m\u001b[1;33m)\u001b[0m\u001b[1;33m\u001b[0m\u001b[1;33m\u001b[0m\u001b[0m\n\u001b[0;32m    341\u001b[0m         \u001b[1;32mif\u001b[0m \u001b[0mend\u001b[0m \u001b[1;33m!=\u001b[0m \u001b[0mlen\u001b[0m\u001b[1;33m(\u001b[0m\u001b[0ms\u001b[0m\u001b[1;33m)\u001b[0m\u001b[1;33m:\u001b[0m\u001b[1;33m\u001b[0m\u001b[1;33m\u001b[0m\u001b[0m\n",
      "\u001b[1;32mc:\\Users\\harsh\\anaconda3\\envs\\bertenv\\lib\\json\\decoder.py\u001b[0m in \u001b[0;36mraw_decode\u001b[1;34m(self, s, idx)\u001b[0m\n\u001b[0;32m    355\u001b[0m             \u001b[0mobj\u001b[0m\u001b[1;33m,\u001b[0m \u001b[0mend\u001b[0m \u001b[1;33m=\u001b[0m \u001b[0mself\u001b[0m\u001b[1;33m.\u001b[0m\u001b[0mscan_once\u001b[0m\u001b[1;33m(\u001b[0m\u001b[0ms\u001b[0m\u001b[1;33m,\u001b[0m \u001b[0midx\u001b[0m\u001b[1;33m)\u001b[0m\u001b[1;33m\u001b[0m\u001b[1;33m\u001b[0m\u001b[0m\n\u001b[0;32m    356\u001b[0m         \u001b[1;32mexcept\u001b[0m \u001b[0mStopIteration\u001b[0m \u001b[1;32mas\u001b[0m \u001b[0merr\u001b[0m\u001b[1;33m:\u001b[0m\u001b[1;33m\u001b[0m\u001b[1;33m\u001b[0m\u001b[0m\n\u001b[1;32m--> 357\u001b[1;33m             \u001b[1;32mraise\u001b[0m \u001b[0mJSONDecodeError\u001b[0m\u001b[1;33m(\u001b[0m\u001b[1;34m\"Expecting value\"\u001b[0m\u001b[1;33m,\u001b[0m \u001b[0ms\u001b[0m\u001b[1;33m,\u001b[0m \u001b[0merr\u001b[0m\u001b[1;33m.\u001b[0m\u001b[0mvalue\u001b[0m\u001b[1;33m)\u001b[0m \u001b[1;32mfrom\u001b[0m \u001b[1;32mNone\u001b[0m\u001b[1;33m\u001b[0m\u001b[1;33m\u001b[0m\u001b[0m\n\u001b[0m\u001b[0;32m    358\u001b[0m         \u001b[1;32mreturn\u001b[0m \u001b[0mobj\u001b[0m\u001b[1;33m,\u001b[0m \u001b[0mend\u001b[0m\u001b[1;33m\u001b[0m\u001b[1;33m\u001b[0m\u001b[0m\n",
      "\u001b[1;31mJSONDecodeError\u001b[0m: Expecting value: line 1 column 1 (char 0)"
     ]
    }
   ],
   "source": [
    "get_embeddings(\"Hello there\")"
   ]
  },
  {
   "cell_type": "code",
   "execution_count": 28,
   "metadata": {},
   "outputs": [],
   "source": [
    "# def retrieve(sent_bertphrase_embeddings,example_query):\n",
    "#     max_=-1\n",
    "#     max_i = -1\n",
    "#     for index,emb in enumerate(sent_bertphrase_embeddings):\n",
    "#         sim_score = cosine_similarity(emb,example_query)[0][0]\n",
    "#         if sim_score>max_:\n",
    "#             max_=sim_score\n",
    "#             max_i=index\n",
    "#     print(\"\\n\");\n",
    "#     print(\"Retrieved: \"+str(max_)+\" \",df.iloc[max_i,3])  # 3 is index for q text\n",
    "#     print(df.iloc[max_i,8])    # 8 is the index for the answer text  \n",
    "#     return str(df.iloc[max_i,8])"
   ]
  },
  {
   "cell_type": "code",
   "execution_count": 14,
   "metadata": {},
   "outputs": [],
   "source": [
    "# testing sample\n",
    "data = [\"I have been feeling really down. I do not feel like eating and I feel miserable.\",\n",
    "         \"I've been really stressed out. I just broke up with my boyfriend. Our relationship had problems\",\n",
    "        \"My boss has been troubling me. I am sick of it.\",\n",
    "       \"He keeps hitting me at home. He is abusive and throws things and yells at me. Husband is drunk all the time.\",\n",
    "        \"Im bored and I like to play with toys and cars\",\n",
    "        \"I just lost my grandparents. They both passed away this year and I am unable to cope and function with this loss.\",\n",
    "        \"Hey! how are you? yo whatsup\",\n",
    "        \"I was in the army and I just got out of the war. I think I'm having severe PTSD\",\n",
    "        \"How can I deal with OCD?\",\n",
    "        \"My partner snores a lot and I can't sleep\"]\n",
    "x_try = pd.DataFrame(data,columns=['text'])"
   ]
  },
  {
   "cell_type": "code",
   "execution_count": 15,
   "metadata": {},
   "outputs": [
    {
     "data": {
      "text/html": [
       "<div>\n",
       "<style scoped>\n",
       "    .dataframe tbody tr th:only-of-type {\n",
       "        vertical-align: middle;\n",
       "    }\n",
       "\n",
       "    .dataframe tbody tr th {\n",
       "        vertical-align: top;\n",
       "    }\n",
       "\n",
       "    .dataframe thead th {\n",
       "        text-align: right;\n",
       "    }\n",
       "</style>\n",
       "<table border=\"1\" class=\"dataframe\">\n",
       "  <thead>\n",
       "    <tr style=\"text-align: right;\">\n",
       "      <th></th>\n",
       "      <th>text</th>\n",
       "    </tr>\n",
       "  </thead>\n",
       "  <tbody>\n",
       "    <tr>\n",
       "      <th>0</th>\n",
       "      <td>I have been feeling really down. I do not feel...</td>\n",
       "    </tr>\n",
       "    <tr>\n",
       "      <th>1</th>\n",
       "      <td>I've been really stressed out. I just broke up...</td>\n",
       "    </tr>\n",
       "    <tr>\n",
       "      <th>2</th>\n",
       "      <td>My boss has been troubling me. I am sick of it.</td>\n",
       "    </tr>\n",
       "    <tr>\n",
       "      <th>3</th>\n",
       "      <td>He keeps hitting me at home. He is abusive and...</td>\n",
       "    </tr>\n",
       "    <tr>\n",
       "      <th>4</th>\n",
       "      <td>Im bored and I like to play with toys and cars</td>\n",
       "    </tr>\n",
       "    <tr>\n",
       "      <th>5</th>\n",
       "      <td>I just lost my grandparents. They both passed ...</td>\n",
       "    </tr>\n",
       "    <tr>\n",
       "      <th>6</th>\n",
       "      <td>Hey! how are you? yo whatsup</td>\n",
       "    </tr>\n",
       "    <tr>\n",
       "      <th>7</th>\n",
       "      <td>I was in the army and I just got out of the wa...</td>\n",
       "    </tr>\n",
       "    <tr>\n",
       "      <th>8</th>\n",
       "      <td>How can I deal with OCD?</td>\n",
       "    </tr>\n",
       "    <tr>\n",
       "      <th>9</th>\n",
       "      <td>My partner snores a lot and I can't sleep</td>\n",
       "    </tr>\n",
       "  </tbody>\n",
       "</table>\n",
       "</div>"
      ],
      "text/plain": [
       "                                                text\n",
       "0  I have been feeling really down. I do not feel...\n",
       "1  I've been really stressed out. I just broke up...\n",
       "2    My boss has been troubling me. I am sick of it.\n",
       "3  He keeps hitting me at home. He is abusive and...\n",
       "4     Im bored and I like to play with toys and cars\n",
       "5  I just lost my grandparents. They both passed ...\n",
       "6                       Hey! how are you? yo whatsup\n",
       "7  I was in the army and I just got out of the wa...\n",
       "8                           How can I deal with OCD?\n",
       "9          My partner snores a lot and I can't sleep"
      ]
     },
     "execution_count": 15,
     "metadata": {},
     "output_type": "execute_result"
    }
   ],
   "source": [
    "x_try"
   ]
  },
  {
   "cell_type": "code",
   "execution_count": 31,
   "metadata": {},
   "outputs": [
    {
     "data": {
      "text/plain": [
       "\"I was in the army and I just got out of the war. I think I'm having severe PTSD\""
      ]
     },
     "execution_count": 31,
     "metadata": {},
     "output_type": "execute_result"
    }
   ],
   "source": [
    "# getting hold of a certain question\n",
    "question = x_try.iloc[7][0]\n",
    "question"
   ]
  },
  {
   "cell_type": "code",
   "execution_count": 16,
   "metadata": {},
   "outputs": [],
   "source": [
    "# extracting embedding values\n",
    "x_try_list = x_try['text'].to_list()\n",
    "x_try_embeddings = bert_embedding(x_try_list)"
   ]
  },
  {
   "cell_type": "code",
   "execution_count": 17,
   "metadata": {},
   "outputs": [],
   "source": [
    "# storing embeddings in a list (here as taking a eg, consider alternative of dumping step into pickle file)\n",
    "user_queries = []\n",
    "for x in x_try_embeddings:\n",
    "  user_queries.append(x[1])\n",
    "\n",
    "example_query = user_queries[0]\n",
    "example_question = sent_bertphrase_embeddings[0]"
   ]
  },
  {
   "cell_type": "code",
   "execution_count": 19,
   "metadata": {},
   "outputs": [],
   "source": [
    "def retrieve(sent_bertphrase_embeddings,example_query):\n",
    "  max_=-1\n",
    "  max_i = -1\n",
    "  for index,emb in enumerate(sent_bertphrase_embeddings):\n",
    "    sim_score = cosine_similarity(emb,example_query)[0][0]\n",
    "    if sim_score>max_:\n",
    "      max_=sim_score\n",
    "      max_i=index\n",
    "  print(\"\\n\");\n",
    "  print(\"Retrieved: \"+str(max_)+\" \",df.iloc[max_i,3])  # 3 is index for q text\n",
    "  print(df.iloc[max_i,8])    # 8 is the index for the answer text  \n",
    "  return str(df.iloc[max_i,8])\n",
    "#sim_score = cosine_similarity(example_question, example_query)[0][0]"
   ]
  },
  {
   "cell_type": "code",
   "execution_count": 37,
   "metadata": {},
   "outputs": [
    {
     "name": "stdout",
     "output_type": "stream",
     "text": [
      "I have been feeling really down. I do not feel like eating and I feel miserable.\n",
      "\n",
      "\n",
      "Retrieved: 0.9189749  i have been feeling more and more down for over a month. i have started having trouble sleeping due to panic attacks, but they are almost never triggered by something that i know of.\n",
      "answers inner lives successfully reached sense feeling grounded oneself.first step accept nervousness restless sleep. often possible, sleep daytimes order body catch need rest.accept feeling down. normal feel while. place self-acceptance, trust answers come mind. often answers complicated topics come small pieces, whole unit.also, description panic attacks also completely normal. often arise unrelated particular conditions given moment. healthy symptom body trying expel bad feelings anxiety erupt times.so, self-acceptance, tolerance process clearing worn emotional clutter, sleep odd times possible, ways stabilize yourself, also feel calm good!\n",
      "I've been really stressed out. I just broke up with my boyfriend. Our relationship had problems\n",
      "\n",
      "\n",
      "Retrieved: 0.8566053  i'm having issues with my relative. the police never believe the experiences i have been through because i am only a kid. i've even had trouble trying to reach a therapist because i said i wanted to get an adult to help me. could you please give me advice?\n",
      "think would wise call hotline especially designed children. called childhelp national child abuse hotline. number 1-800-4-a-child (1-800-422-4453). completely anonymous trained therapist able provide guidance, confidentiality, also help make report want.the call completely free open 24 hours day 7 days week. i'm glad taking steps improve situation. brave intelligent child. please remember call 911 immediate danger.\n",
      "My boss has been troubling me. I am sick of it.\n",
      "\n",
      "\n",
      "Retrieved: 0.86580336  my boyfriend is in ireland for 11 days, and i am an emotional wreck.\n",
      "sounds like boyfriend close. typically spend time together? so, may important reflect feel apart. separation difficult, may need examine why. think miss anxious, upset worried about. examine causes distress likely experience relief. important learn happy alone, improve way feel boyfriend.\n",
      "He keeps hitting me at home. He is abusive and throws things and yells at me. Husband is drunk all the time.\n",
      "\n",
      "\n",
      "Retrieved: 0.8400922  he is always telling me our fights are only and all my fault, he bashes me to our young child, and he is addicted to a few substances.\n",
      "strengthen belief right decent life respect are.from brief description write, husband limited capacity recognize others feel even less capacity empathize person.the best convince worth associate others believe similarly qualities.\n",
      "Im bored and I like to play with toys and cars\n",
      "\n",
      "\n",
      "Retrieved: 0.63917834  ive been in an on an off relationship with a this man for almost 3 years. even though i care about him, he continues to hurt me. he and his wife were separated when we met. now he's going through a really difficult divorce from her and is taking it really hard. i want to end this relationship, but i don't feel like i can. how can i let go?\n",
      "hello, thank question. boy, ending relationships tough, it? sometimes tough even 100% sure right thing do!i going give thoughts, hopefully colleagues add others. one things want point \"letting go\" really thing. words, really something reach grab. process. good news, necessarily end process end unhealthy relationship. accept feelings come even relationship over. example, someone end unhealthy relationship today, reminded good times would \"anniversary.\" could make person sad. may even regret ending relationship little while. would important, then, person remind relationship needed end, healthier it. relevant you. hard walk away relationship. fear kinds things, including single! sometimes helpful compare getting relationship want relationship. helpful honest given unhealthy relationship. fine admit uncertainly ending things. okay afraid. okay moments doubt sadness along dash guilt. even that, someone still leave healthiest thing them. sadness later on, still go back.it sounds like feeling responsible making sure okay divorce. truth necessarily \"perfect\" time end relationship. would guarantee would better divorce. sometimes making decisions stresses us lot making decision living consequences, good bad. may crossroads. well..robin j. landwehr, dbh, lpc, ncc\n",
      "I just lost my grandparents. They both passed away this year and I am unable to cope and function with this loss.\n",
      "\n",
      "\n",
      "Retrieved: 0.9100472  i just lost my grandpa and i'm having a rough time with it. i need some help to deal with the loss, but i don’t think i can pay for counseling. where can i get help?\n",
      "connect therapist say whatever want say judged. feel like things, situations, outlook shifting you.\n",
      "Hey! how are you? yo whatsup\n",
      "\n",
      "\n",
      "Retrieved: 0.47274774  my boyfriend is in ireland for 11 days, and i am an emotional wreck.\n",
      "sounds like boyfriend close. typically spend time together? so, may important reflect feel apart. separation difficult, may need examine why. think miss anxious, upset worried about. examine causes distress likely experience relief. important learn happy alone, improve way feel boyfriend.\n",
      "I was in the army and I just got out of the war. I think I'm having severe PTSD\n",
      "\n",
      "\n",
      "Retrieved: 0.85708594  i had a head injury a few years ago and my mind races all the time. i have trouble sleeping and have a lot of anxiety. every medicine i have been on my body rejects; i get sick to my stomach and get blisters in my mouth. how can i calm my self down? i'm a wreck.\n",
      "say many medications tried. certain anxiety medications make feel nauseous, heard cause mouth blisters, may underlying medical issue there. would definitely talk primary care physician whoever prescribed medication well neurologist suffered severe head injury. many medications available anxiety insomnia even depression may others lesser side effects.but beyond that, tried treatments deep breathing meditation? meditation effective, takes practice sit cross-legged hours chanting \"ohm\" meditate. focusing breath, rather thoughts racing head. take mind breath, simply refocus (and refocus refocus). like said, takes practice, give up. find many sites offering different ways meditate, look around see works best you. like medication, find one works best might take experimentation.i hope helps best luck you.\n",
      "How can I deal with OCD?\n",
      "\n",
      "\n",
      "Retrieved: 0.89679235  how can i know if i'm just being paranoid?\n",
      "hi texas,oh, that's powerful idea, it? burrows head. let's figure out. first, partner given concrete reason trust them? cheated before? not, deserve benefit doubt evidence. \"yes\", natural fears would triggered simply let partner know triggers fear need. \"when refuse let see phone worry hiding something. need openness\". cheated past, three possible scenarios here. invite take moment write evidence cheating going on. specific thing that's triggering fears? data recorded, read on...the first scenario personally hurt past someone else developed fears hurt enough keep someone interested (this fear...people cheat reasons, we're interesting). may true wrote \"they really anything wrong...there evidence. i'm scared suspicious\". that's cue self reflection calm thoughts like \"nothing really happened. trust.\"if wrote vague evidence, like example partner distant irritable, less sex usual, try approach situation without making assumptions. trust gut, gut seeing evidence cheating...it's evidence \"something\". ask partner what's accusations assumptions.the third possibility clear evidence cheating. maybe texts phone, someone told something saw. i'd say evidence, okay present partner ask what's going on. happens repeatedly, gut screaming excuses explanations make sense, okay bit \"research\" extra aware what's going around you. hope helps.\n",
      "My partner snores a lot and I can't sleep\n",
      "\n",
      "\n",
      "Retrieved: 0.80136216  my grandma and brother both passed away 11 years ago and sometimes at night i just can't stop crying while thinking about the good memories we had but won't have ever again. i can't sleep at night when the memories and tears come i'll be fine all day then at night...boom! it's like waterfalls from my eyes. why can't i stop crying?\n",
      "good know reminiscing good memories. sadness crying normal missing loved one. noticing grief changes, stop. recognized moments life want shared brother grandma seems unfair cannot. often find someone stuck place are, result unfinished business case, appears, unfinished futures. professional versed grieving intricacies, guide navigate lessen intensity experience. life goes on, many moments wished present, moments bring intense emotion. seek help, regret it.\n"
     ]
    }
   ],
   "source": [
    "# retrieving similar queries with that to example query\n",
    "for queries in range(len(user_queries)):\n",
    "  print(x_try.iloc[queries][0])\n",
    "  example_query = user_queries[queries]\n",
    "  retrieve(sent_bertphrase_embeddings,example_query)"
   ]
  },
  {
   "cell_type": "code",
   "execution_count": 29,
   "metadata": {},
   "outputs": [],
   "source": [
    "def retrieveAndPrintFAQAnswer(question_embedding,sentence_embeddings,FAQdf): #USE BOTH QUESTION AND ANSWER EMBEDDINGS FOR CS\n",
    "    max_sim=-1\n",
    "    index_sim=-1\n",
    "    valid_ans = []\n",
    "    for index,faq_embedding in enumerate(sentence_embeddings):\n",
    "        #sim=cosine_similarity(embedding.reshape(1, -1),question_embedding.reshape(1, -1))[0][0];\n",
    "        sim=cosine_similarity(faq_embedding,question_embedding)[0][0]\n",
    "        #print(index, sim, sentences[index])\n",
    "        if sim>=max_sim:\n",
    "            max_sim=sim\n",
    "            index_sim=index\n",
    "            valid_ans.append(index_sim) #get all possible valid answers with same confidence\n",
    "\n",
    "    #Calculate answer with highest cosine similarity \n",
    "    max_a_sim=-1\n",
    "    answer=\"\"\n",
    "    for ans in valid_ans:\n",
    "      answer_text = FAQdf.iloc[ans,8] #answer \n",
    "      answer_em = sent_bertphrase_ans_embeddings[ans] #get embedding from index\n",
    "      similarity = cosine_similarity(answer_em,question_embedding)[0][0]\n",
    "      if similarity>max_a_sim:\n",
    "        max_a_sim = similarity\n",
    "        answer = answer_text\n",
    "    #print(\"\\n\")\n",
    "    #print(\"Question: \",question)\n",
    "    #print(\"\\n\");\n",
    "    #print(\"Retrieved: \"+str(max_sim)+\" \",FAQdf.iloc[index_sim,3])  # 3 is index for q text\n",
    "    #print(FAQdf.iloc[index_sim,8])    # 8 is the index for the answer text \n",
    "    #check confidence level\n",
    "    if max_a_sim<0.70: \n",
    "        return \"Could you please elaborate your situation more? I don't really understand.\" \n",
    "    return answer  \n",
    "    #print(answer)\n",
    "     "
   ]
  },
  {
   "cell_type": "code",
   "execution_count": null,
   "metadata": {},
   "outputs": [],
   "source": [
    "for index,row in x_try.iterrows():\n",
    "  question = row['text']\n",
    "  print(question)\n",
    "  question_embedding = list(bert_embedding(question))\n",
    "  # question_embedding = get_embeddings([question])\n",
    "  retrieveAndPrintFAQAnswer(question_embedding,sent_bertphrase_embeddings,df)"
   ]
  },
  {
   "cell_type": "code",
   "execution_count": null,
   "metadata": {},
   "outputs": [],
   "source": [
    "for index,row in x_try.iterrows():\n",
    "  example_query = row['text']\n",
    "  print(example_query)\n",
    "  example_query_emb = get_embeddings([example_query])\n",
    "  ans = retrieve(sent_bertphrase_embeddings,example_query_emb)"
   ]
  },
  {
   "cell_type": "code",
   "execution_count": 42,
   "metadata": {},
   "outputs": [
    {
     "name": "stdout",
     "output_type": "stream",
     "text": [
      "Collecting textblobNote: you may need to restart the kernel to use updated packages.\n",
      "  Downloading textblob-0.17.1-py2.py3-none-any.whl (636 kB)\n",
      "Requirement already satisfied: nltk>=3.1 in c:\\users\\harsh\\anaconda3\\envs\\bertenv\\lib\\site-packages (from textblob) (3.6.7)\n",
      "Requirement already satisfied: regex>=2021.8.3 in c:\\users\\harsh\\anaconda3\\envs\\bertenv\\lib\\site-packages (from nltk>=3.1->textblob) (2023.8.8)\n",
      "Requirement already satisfied: tqdm in c:\\users\\harsh\\anaconda3\\envs\\bertenv\\lib\\site-packages (from nltk>=3.1->textblob) (4.64.1)\n",
      "Requirement already satisfied: joblib in c:\\users\\harsh\\anaconda3\\envs\\bertenv\\lib\\site-packages (from nltk>=3.1->textblob) (1.1.1)\n",
      "Requirement already satisfied: click in c:\\users\\harsh\\anaconda3\\envs\\bertenv\\lib\\site-packages (from nltk>=3.1->textblob) (8.0.4)\n",
      "Requirement already satisfied: colorama in c:\\users\\harsh\\anaconda3\\envs\\bertenv\\lib\\site-packages (from click->nltk>=3.1->textblob) (0.4.5)\n",
      "Requirement already satisfied: importlib-metadata in c:\\users\\harsh\\anaconda3\\envs\\bertenv\\lib\\site-packages (from click->nltk>=3.1->textblob) (4.8.3)\n",
      "Requirement already satisfied: zipp>=0.5 in c:\\users\\harsh\\anaconda3\\envs\\bertenv\\lib\\site-packages (from importlib-metadata->click->nltk>=3.1->textblob) (3.6.0)\n",
      "Requirement already satisfied: typing-extensions>=3.6.4 in c:\\users\\harsh\\anaconda3\\envs\\bertenv\\lib\\site-packages (from importlib-metadata->click->nltk>=3.1->textblob) (4.1.1)\n",
      "Requirement already satisfied: importlib-resources in c:\\users\\harsh\\anaconda3\\envs\\bertenv\\lib\\site-packages (from tqdm->nltk>=3.1->textblob) (5.4.0)\n",
      "Installing collected packages: textblob\n",
      "Successfully installed textblob-0.17.1\n",
      "\n"
     ]
    },
    {
     "name": "stderr",
     "output_type": "stream",
     "text": [
      "[nltk_data] Downloading package movie_reviews to\n",
      "[nltk_data]     C:\\Users\\harsh\\AppData\\Roaming\\nltk_data...\n",
      "[nltk_data]   Package movie_reviews is already up-to-date!\n"
     ]
    },
    {
     "data": {
      "text/plain": [
       "True"
      ]
     },
     "execution_count": 42,
     "metadata": {},
     "output_type": "execute_result"
    }
   ],
   "source": [
    "%pip install textblob\n",
    "nltk.download('movie_reviews')"
   ]
  },
  {
   "cell_type": "code",
   "execution_count": 43,
   "metadata": {},
   "outputs": [
    {
     "data": {
      "text/plain": [
       "0.4166666666666667"
      ]
     },
     "execution_count": 43,
     "metadata": {},
     "output_type": "execute_result"
    }
   ],
   "source": [
    "from textblob import TextBlob\n",
    "from textblob.sentiments import *\n",
    "blob = TextBlob(\"hmm fine ig\", analyzer=PatternAnalyzer())\n",
    "blob.sentiment.polarity"
   ]
  },
  {
   "cell_type": "code",
   "execution_count": null,
   "metadata": {},
   "outputs": [],
   "source": []
  }
 ],
 "metadata": {
  "kernelspec": {
   "display_name": "pythonold",
   "language": "python",
   "name": "python3"
  },
  "language_info": {
   "codemirror_mode": {
    "name": "ipython",
    "version": 3
   },
   "file_extension": ".py",
   "mimetype": "text/x-python",
   "name": "python",
   "nbconvert_exporter": "python",
   "pygments_lexer": "ipython3",
   "version": "3.6.13"
  }
 },
 "nbformat": 4,
 "nbformat_minor": 2
}
